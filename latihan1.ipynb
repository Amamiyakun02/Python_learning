{
 "cells": [
  {
   "cell_type": "code",
   "execution_count": 1,
   "id": "4edddc9f-0f7d-4918-8e16-291557e7f16b",
   "metadata": {},
   "outputs": [
    {
     "name": "stdout",
     "output_type": "stream",
     "text": [
      "Hellow Master\n"
     ]
    }
   ],
   "source": [
    "a = \"Hellow Master\"\n",
    "print(a.strip(\",\"))"
   ]
  },
  {
   "cell_type": "code",
   "execution_count": 18,
   "id": "60459476-a9d0-4eb5-9b18-fb09fb9c83bc",
   "metadata": {},
   "outputs": [
    {
     "name": "stdout",
     "output_type": "stream",
     "text": [
      "my name is Reza,i am 20 years old, and my hobby is reading a book\n"
     ]
    }
   ],
   "source": [
    "name = \"Reza\"\n",
    "age  = 20\n",
    "hobbi = \"reading a book\"\n",
    "\n",
    "kalimat = \"my name is {},i am {} years old, and my hobby is {}\"\n",
    "\n",
    "print(kalimat.format(name,age,hobbi))"
   ]
  },
  {
   "cell_type": "code",
   "execution_count": 19,
   "id": "226f27ca-7efa-4aaf-8ac6-47a0c0b9744a",
   "metadata": {},
   "outputs": [
    {
     "name": "stdin",
     "output_type": "stream",
     "text": [
      "what your name:  maireza\n",
      "How old are you :  20\n",
      "what your hobbi? : reading book\n"
     ]
    },
    {
     "name": "stdout",
     "output_type": "stream",
     "text": [
      "Hello my name is maireza,i am 20 years old,and i love a reading book\n"
     ]
    }
   ],
   "source": [
    "name = str(input(\"what your name: \"))\n",
    "old = int(input(\"How old are you : \"))\n",
    "hobbi = str(input(\"what your hobbi? :\"))\n",
    "\n",
    "adj = \"Hello my name is {},i am {} years old,and i love a {}\"\n",
    "\n",
    "print(adj.format(name,old,hobbi))"
   ]
  },
  {
   "cell_type": "code",
   "execution_count": 1,
   "id": "33acd993-b9d5-46c9-ba28-20cfaad1f065",
   "metadata": {},
   "outputs": [
    {
     "name": "stdout",
     "output_type": "stream",
     "text": [
      "('tabel_akun',)\n",
      "('tabel_buku',)\n",
      "('tabel_catatan',)\n",
      "('tabel_kategori',)\n",
      "('tabel_level',)\n"
     ]
    }
   ],
   "source": [
    "import mysql.connector\n",
    "\n",
    "con = mysql.connector.connect(\n",
    "    host = \"localhost\",\n",
    "    username = \"root\",\n",
    "    password = \"Amamiyakun0210\",\n",
    "    database = \"latihanrat\"\n",
    ")\n",
    "\n",
    "mycur = con.cursor()\n",
    "mycur.execute(\"SHOW TABLES\")\n",
    "\n",
    "for x in mycur:\n",
    "    print(x)"
   ]
  },
  {
   "cell_type": "code",
   "execution_count": 1,
   "id": "0393a33a-bb25-45cb-ad5f-2845b5940b2c",
   "metadata": {},
   "outputs": [
    {
     "name": "stdout",
     "output_type": "stream",
     "text": [
      "False\n",
      "True False\n",
      "<class 'bool'>\n",
      "<class 'float'>\n",
      "<class 'int'>\n",
      "<class 'str'>\n"
     ]
    }
   ],
   "source": [
    "a = True\n",
    "c = 2.545\n",
    "d = 15\n",
    "x = \"kita\"\n",
    "b = False\n",
    "print(a and b)\n",
    "print(not b,not a)\n",
    "print(type(b))\n",
    "print(type(c))\n",
    "print(type(d))\n",
    "print(type(x))"
   ]
  },
  {
   "cell_type": "code",
   "execution_count": 27,
   "id": "3377215d-20cc-4af5-8f0b-8165d8b9b95b",
   "metadata": {},
   "outputs": [
    {
     "name": "stdout",
     "output_type": "stream",
     "text": [
      "False\n",
      "False\n",
      "False\n"
     ]
    }
   ],
   "source": [
    "class myclass():\n",
    "    def __len__(self):\n",
    "        return False\n",
    "dic = {}\n",
    "st = \"\"\n",
    "obj = myclass()\n",
    "print(bool(obj))\n",
    "print(bool(dic))\n",
    "print(bool(st))"
   ]
  },
  {
   "cell_type": "code",
   "execution_count": 31,
   "id": "95641b5a-a385-4165-af90-6c18bc50498a",
   "metadata": {},
   "outputs": [
    {
     "name": "stdout",
     "output_type": "stream",
     "text": [
      "Salah\n"
     ]
    }
   ],
   "source": [
    " def function():\n",
    "        return False\n",
    "    \n",
    "if not function():\n",
    "    print(\"Salah\")\n",
    "else:\n",
    "    print(\"benar\")"
   ]
  },
  {
   "cell_type": "code",
   "execution_count": 58,
   "id": "c52bc34c-1fe1-4515-a8c6-b36066812323",
   "metadata": {},
   "outputs": [
    {
     "name": "stdout",
     "output_type": "stream",
     "text": [
      "1 5\n",
      "1 8\n",
      "1 4\n",
      "1 6\n",
      "1 9\n",
      "1 2\n",
      "2 5\n",
      "2 8\n",
      "2 4\n",
      "2 6\n",
      "2 9\n",
      "2 2\n",
      "3 5\n",
      "3 8\n",
      "3 4\n",
      "3 6\n",
      "3 9\n",
      "3 2\n",
      "4 5\n",
      "4 8\n",
      "4 4\n",
      "4 6\n",
      "4 9\n",
      "4 2\n",
      "5 5\n",
      "5 8\n",
      "5 4\n",
      "5 6\n",
      "5 9\n",
      "5 2\n",
      "6 5\n",
      "6 8\n",
      "6 4\n",
      "6 6\n",
      "6 9\n",
      "6 2\n",
      "[6, 5, 4, 3, 2, 1]\n",
      "[2, 4, 5, 6, 8, 9]\n",
      "[]\n"
     ]
    }
   ],
   "source": [
    "arr = [1,2,3,4,5,6]\n",
    "arr3 = [5,8,4,6,9,2]\n",
    "\n",
    " \n",
    "for x in arr:\n",
    "    for y in arr3:\n",
    "        print(x,y)\n",
    "arr.reverse()\n",
    "print(arr)\n",
    "arr3.sort()\n",
    "print(arr3)\n",
    "arr.clear()\n",
    "print(arr)"
   ]
  },
  {
   "cell_type": "code",
   "execution_count": 1,
   "id": "6f2e8609-69d0-4b92-b714-8e8ad82d0acc",
   "metadata": {},
   "outputs": [
    {
     "name": "stdout",
     "output_type": "stream",
     "text": [
      "546.75\n"
     ]
    }
   ],
   "source": [
    "z = lambda k,y,l : k** y / l\n",
    "print(z(3,7,4))"
   ]
  },
  {
   "cell_type": "code",
   "execution_count": 2,
   "id": "0b778885-02fb-4586-ad4e-55e5491cf0f9",
   "metadata": {},
   "outputs": [
    {
     "name": "stdout",
     "output_type": "stream",
     "text": [
      "hello edo\n"
     ]
    }
   ],
   "source": [
    "print(\"hello edo\")"
   ]
  }
 ],
 "metadata": {
  "kernelspec": {
   "display_name": "Python 3 (ipykernel)",
   "language": "python",
   "name": "python3"
  },
  "language_info": {
   "codemirror_mode": {
    "name": "ipython",
    "version": 3
   },
   "file_extension": ".py",
   "mimetype": "text/x-python",
   "name": "python",
   "nbconvert_exporter": "python",
   "pygments_lexer": "ipython3",
   "version": "3.9.13"
  }
 },
 "nbformat": 4,
 "nbformat_minor": 5
}
