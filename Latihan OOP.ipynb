{
 "cells": [
  {
   "cell_type": "code",
   "execution_count": 9,
   "id": "19cc727a-826f-43af-a37b-caf07757dc32",
   "metadata": {},
   "outputs": [
    {
     "name": "stdout",
     "output_type": "stream",
     "text": [
      "Sukses dibuat\n",
      "Sukses dibuat\n",
      "Sukses dibuat\n",
      "{'name': 'Venti', 'Health': 500, 'Power': 250, 'Armor': 300}\n",
      "3\n"
     ]
    }
   ],
   "source": [
    "class Hero:\n",
    "    jumlah = 0\n",
    "    \n",
    "    def __init__(self,iname,iHealth,iPower,iArmor):\n",
    "        self.name = iname\n",
    "        self.Health = iHealth\n",
    "        self.Power = iPower\n",
    "        self.Armor = iArmor\n",
    "        Hero.jumlah += 1\n",
    "        print(\"Sukses dibuat\")\n",
    "        \n",
    "pahlawan1 = Hero(\"kaeya\", 500,300,150)\n",
    "pahlawan2 = Hero(\"Diluc\", 700,350,100)\n",
    "pahlawan3 = Hero(\"Venti\", 500,250,300)\n",
    "print(pahlawan3.__dict__)\n",
    "print(Hero.jumlah)"
   ]
  },
  {
   "cell_type": "code",
   "execution_count": 12,
   "id": "b80bbd76-5d4c-477a-9841-d1b0df74c137",
   "metadata": {},
   "outputs": [
    {
     "name": "stdout",
     "output_type": "stream",
     "text": [
      "Nilai Algoritma Pemrograman dari Maireza adalah 90\n"
     ]
    }
   ],
   "source": [
    "class kelas1E:\n",
    "    \n",
    "    def __init__(self,nama,NIM):\n",
    "        self.nama = nama\n",
    "        self.NIM = NIM\n",
    "    def nilai_alpro(self,nilai):\n",
    "        print(f\"Nilai Algoritma Pemrograman dari {self.nama} adalah {nilai}\")\n",
    "        \n",
    "absen1 = kelas1E(\"Maireza\", \"2201301179\")\n",
    "absen1.nilai_alpro(90)\n"
   ]
  }
 ],
 "metadata": {
  "kernelspec": {
   "display_name": "Python 3 (ipykernel)",
   "language": "python",
   "name": "python3"
  },
  "language_info": {
   "codemirror_mode": {
    "name": "ipython",
    "version": 3
   },
   "file_extension": ".py",
   "mimetype": "text/x-python",
   "name": "python",
   "nbconvert_exporter": "python",
   "pygments_lexer": "ipython3",
   "version": "3.9.13"
  }
 },
 "nbformat": 4,
 "nbformat_minor": 5
}
